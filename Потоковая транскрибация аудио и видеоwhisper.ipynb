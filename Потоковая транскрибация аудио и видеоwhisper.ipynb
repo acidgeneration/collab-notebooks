{
  "cells": [
    {
      "cell_type": "markdown",
      "source": [
        "# Подключить Google Drive"
      ],
      "metadata": {
        "id": "JkAWy8vcStbs"
      }
    },
    {
      "cell_type": "code",
      "source": [
        "from google.colab import drive\n",
        "drive.mount('/content/drive')"
      ],
      "metadata": {
        "id": "1C2b7sf7KLnH"
      },
      "execution_count": null,
      "outputs": []
    },
    {
      "cell_type": "markdown",
      "source": [
        "# Установка whisper"
      ],
      "metadata": {
        "id": "QlpkFTDZSwdK"
      }
    },
    {
      "cell_type": "code",
      "execution_count": null,
      "metadata": {
        "id": "HOvKw2K3kWqK"
      },
      "outputs": [],
      "source": [
        "!pip install git+https://github.com/openai/whisper.git"
      ]
    },
    {
      "cell_type": "markdown",
      "source": [
        "# Потоковая транскрибация с goole drive"
      ],
      "metadata": {
        "id": "PUxsvfcQTHQU"
      }
    },
    {
      "cell_type": "markdown",
      "source": [
        "Укажите ссылки на файлы которые нужно транскрибировать, можно mp3 или видео mp4"
      ],
      "metadata": {
        "id": "Fvh_zYMuuRi7"
      }
    },
    {
      "cell_type": "code",
      "source": [
        "!whisper \"/content/drive/MyDrive/Отдел Маркетинга/Обучение /EPIC AI 2024/Epic AI - видео конференции /Аудио со всех роликов.mp3\" --model medium --language Russian\n",
        "!whisper \"/content/drive/MyDrive/Отдел Маркетинга/Обучение /EPIC AI 2024/Epic AI - видео конференции /Аудио со всех роликов.mp3\" --model medium --language Russian\n",
        "!whisper \"/content/drive/MyDrive/Отдел Маркетинга/Обучение /EPIC AI 2024/Epic AI - видео конференции /Аудио со всех роликов.mp3\" --model medium --language Russian\n",
        "!whisper \"/content/drive/MyDrive/Отдел Маркетинга/Обучение /EPIC AI 2024/Epic AI - видео конференции /Аудио со всех роликов.mp3\" --model medium --language Russian\n",
        "!whisper \"/content/drive/MyDrive/Отдел Маркетинга/Обучение /EPIC AI 2024/Epic AI - видео конференции /Аудио со всех роликов.mp3\" --model medium --language Russian"
      ],
      "metadata": {
        "id": "uU1Bxv1y6zAx"
      },
      "execution_count": null,
      "outputs": []
    }
  ],
  "metadata": {
    "colab": {
      "provenance": [],
      "private_outputs": true
    },
    "kernelspec": {
      "display_name": "Python 3",
      "name": "python3"
    },
    "language_info": {
      "name": "python"
    },
    "accelerator": "GPU"
  },
  "nbformat": 4,
  "nbformat_minor": 0
}
